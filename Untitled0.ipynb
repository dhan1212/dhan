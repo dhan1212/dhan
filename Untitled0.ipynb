{
  "nbformat": 4,
  "nbformat_minor": 0,
  "metadata": {
    "colab": {
      "name": "Untitled0.ipynb",
      "provenance": [],
      "authorship_tag": "ABX9TyO9AAUZo4vCh/LQGtWf3vOr",
      "include_colab_link": true
    },
    "kernelspec": {
      "name": "python3",
      "display_name": "Python 3"
    }
  },
  "cells": [
    {
      "cell_type": "markdown",
      "metadata": {
        "id": "view-in-github",
        "colab_type": "text"
      },
      "source": [
        "<a href=\"https://colab.research.google.com/github/dhan1212/dhan/blob/master/Untitled0.ipynb\" target=\"_parent\"><img src=\"https://colab.research.google.com/assets/colab-badge.svg\" alt=\"Open In Colab\"/></a>"
      ]
    },
    {
      "cell_type": "markdown",
      "metadata": {
        "id": "30gI4d5h2HPS",
        "colab_type": "text"
      },
      "source": [
        " Day 3\n",
        " \n",
        "Assignment 1"
      ]
    },
    {
      "cell_type": "markdown",
      "metadata": {
        "id": "JVISY1fD2KzS",
        "colab_type": "text"
      },
      "source": [
        "  Question 1\n",
        " \n",
        "You all are Plots, you want to land a plane safely, so altitude required for landing a plane is 1000ft, it it is less than tell pilot to land the plane. or it is more than that but less than 5000ft ask the pilot to come down to 1000ft\", else if it more than 5000ft ask the pilot to go around and try later\""
      ]
    },
    {
      "cell_type": "code",
      "metadata": {
        "id": "s0O2koJL2Sxm",
        "colab_type": "code",
        "colab": {
          "base_uri": "https://localhost:8080/",
          "height": 71
        },
        "outputId": "1c57d95c-ccb4-4add-a6b3-90a210a83ce4"
      },
      "source": [
        " \n",
        "Altitude=int(input(\"Enter the current Altitude(ft) of the plane-\"))\n",
        "if Altitude==1000:\n",
        "    print(\"Safe to land\")\n",
        "elif Altitude<1000:\n",
        "    print(\"Safe to land\")\n",
        "elif Altitude>1000 and Altitude<5000:\n",
        "    print(\"Bring down to 1000ft\")\n",
        "else:\n",
        "    print(\"Go ground and try again\")"
      ],
      "execution_count": null,
      "outputs": [
        {
          "output_type": "stream",
          "text": [
            "Enter the current Altitude(ft) of the plane-1500\n",
            "Bring down to 1000ft\n"
          ],
          "name": "stdout"
        }
      ]
    },
    {
      "cell_type": "markdown",
      "metadata": {
        "id": "8w3zPwkK22KI",
        "colab_type": "text"
      },
      "source": [
        " Question 2\n",
        " \n",
        "Using for loop please print all the prime numbers between 1-200 using FOR LOOP AND RANGE function"
      ]
    },
    {
      "cell_type": "code",
      "metadata": {
        "id": "JvTyJDLQ28KE",
        "colab_type": "code",
        "colab": {
          "base_uri": "https://localhost:8080/",
          "height": 54
        },
        "outputId": "c65a6604-8638-450f-dff4-d99e59486f37"
      },
      "source": [
        " \n",
        " \n",
        "for num in range(2, 201):\n",
        "        for i in range(2, num):\n",
        "            if (num % i) == 0:\n",
        "                break\n",
        "        else:\n",
        "            print(num, end = ',')"
      ],
      "execution_count": null,
      "outputs": [
        {
          "output_type": "stream",
          "text": [
            "2,3,5,7,11,13,17,19,23,29,31,37,41,43,47,53,59,61,67,71,73,79,83,89,97,101,103,107,109,113,127,131,137,139,149,151,157,163,167,173,179,181,191,193,197,199,"
          ],
          "name": "stdout"
        }
      ]
    }
  ]
}